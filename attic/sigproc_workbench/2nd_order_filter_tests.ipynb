{
 "cells": [
  {
   "cell_type": "markdown",
   "id": "cc68e706-e046-4d11-9be1-99c9217d0e07",
   "metadata": {},
   "source": [
    "# Quick tests of different low-pass filters\n",
    "(c) 2023—24 RTE  \n",
    "Developed by Grupo AIA"
   ]
  },
  {
   "cell_type": "markdown",
   "id": "9ed39b57-815e-4071-bc9c-44119db100d6",
   "metadata": {},
   "source": [
    "# Summary\n",
    "This is a (relatively) simple Jupyter Notebook to allow experimenting with the different properties of various second-order low-pass filters, the ones that are available in the dycov tool.\n",
    "\n",
    "The IEC standard prescribes using a 2nd-order, critically damped filter, presumably because it strikes a good balance between simplicity, frequency rolloff at fc (i.e., how good the filter rejects frequencies above fc) and phase delay properties (i.e., how good the filter preserves the original waveform in the time domain).  But it could be argued that in our case (the dycov tool), it's the last criterion that matters most: we want to filter high frequency \"noise\" while preserving the waveform as much as possible. It is not always clear which type of filter achieves this. For instance, if we filter by forward-backward sweeping (filtfilt), phase delay gets compensated and it doesn't matter anymore; in that case it's more important that the filter doesn't have \"ringing\" effects in the step response in the time domain.\n",
    "Could a Bessel filter be better, then? (in theory it minimizes those ringing effects)\n",
    "\n",
    "In any case, this Notebook lets you experiment with all these filters and see the effect on test signals.  You may use square wave signals as the most extreme case, the one in which you will see the most differences between filters. But bear in mind that the dycov tool explicitly excludes sharp transtions by means of windowing plus considering exclusion windows.\n",
    "\n",
    "Maybe a more important setting to play with is how *signal boundaries* are handled, in other words, the **initialization** of the filer.\n"
   ]
  },
  {
   "cell_type": "code",
   "execution_count": null,
   "id": "430d5bb9-0a23-4732-98b9-2f6351aefe68",
   "metadata": {},
   "outputs": [],
   "source": [
    "import numpy as np\n",
    "from scipy.signal import freqz\n",
    "from lp_filters import *\n",
    "import matplotlib.pyplot as plt"
   ]
  },
  {
   "cell_type": "code",
   "execution_count": null,
   "id": "a1b8a72c-8fd2-4e6c-a010-6c585552b5a6",
   "metadata": {},
   "outputs": [],
   "source": [
    "# Auxiliary functions for plotting\n",
    "def plot_filtered_signal(signal, filtered_signal, lpf_name):\n",
    "    plt.figure(figsize=(10, 6))\n",
    "    plt.plot(t, signal, label=\"Original\", alpha=0.4)\n",
    "    plt.plot(t, filtered_signal, label=\"Filtered\", linewidth=2)\n",
    "    plt.title(lpf_name)\n",
    "    plt.xlabel(\"Time (s)\")\n",
    "    plt.ylabel(\"Amplitude\")\n",
    "    plt.legend()\n",
    "    plt.grid()\n",
    "    plt.show()\n",
    "\n",
    "\n",
    "def plot_freq_response(fc, w_ref, h_ref, w, h, filter_name):\n",
    "    plt.figure(figsize=(8, 6))\n",
    "    plt.semilogx(w_ref, 20 * np.log10(np.abs(h_ref)), color=\"silver\", ls=\"dashed\")\n",
    "    plt.semilogx(w, 20 * np.log10(np.abs(h)))\n",
    "    plt.title(filter_name + \" LPF magnitude response (vs. Butterworth)\")\n",
    "    plt.xlabel(\"Frequency [Hz]\")\n",
    "    plt.ylabel(\"Amplitude [dB]\")\n",
    "    plt.grid(which=\"both\", axis=\"both\")\n",
    "    plt.axvline(fc, color=\"green\")  # cutoff frequency\n",
    "    plt.show()\n",
    "\n",
    "\n",
    "def plot_phase_response(fc, w_ref, h_ref, w, h, filter_name):\n",
    "    plt.figure(figsize=(8, 6))\n",
    "    plt.semilogx(w_ref, np.unwrap(np.angle(h_ref)), color=\"silver\", ls=\"dashed\")\n",
    "    plt.semilogx(w, np.unwrap(np.angle(h)))\n",
    "    plt.title(filter_name + \" LPF phase response (vs. Butterworth)\")\n",
    "    plt.xlabel(\"Frequency [Hz]\")\n",
    "    plt.ylabel(\"Amplitude [dB]\")\n",
    "    plt.grid(which=\"both\", axis=\"both\")\n",
    "    plt.axvline(fc, color=\"green\")  # cutoff frequency\n",
    "    plt.axhline(-np.pi / 2, color=\"red\")  # phase midpoint\n",
    "    plt.show()\n",
    "\n",
    "\n",
    "def plot_both_responses(fc, w_ref, h_ref, w, h, filter_name):\n",
    "    plt.figure(figsize=(14, 6))\n",
    "    # Frequency response\n",
    "    plt.subplot(1, 2, 1)\n",
    "    plt.semilogx(w_ref, 20 * np.log10(np.abs(h_ref)), color=\"silver\", ls=\"dashed\")\n",
    "    plt.semilogx(w, 20 * np.log10(np.abs(h)))\n",
    "    plt.title(filter_name + \" LPF (vs. Butterworth)\")\n",
    "    plt.xlabel(\"Frequency [Hz]\")\n",
    "    plt.ylabel(\"Amplitude [dB]\")\n",
    "    plt.grid(which=\"both\", axis=\"both\")\n",
    "    plt.axvline(fc, color=\"green\")  # cutoff frequency\n",
    "    # Phase response\n",
    "    plt.subplot(1, 2, 2)\n",
    "    plt.semilogx(w_ref, np.unwrap(np.angle(h_ref)), color=\"silver\", ls=\"dashed\")\n",
    "    plt.semilogx(w, np.unwrap(np.angle(h)))\n",
    "    plt.title(filter_name + \" LPF (vs. Butterworth)\")\n",
    "    plt.xlabel(\"Frequency [Hz]\")\n",
    "    plt.ylabel(\"Phase [rad]\")\n",
    "    plt.grid(which=\"both\", axis=\"both\")\n",
    "    plt.axvline(fc, color=\"green\")  # cutoff frequency\n",
    "    plt.axhline(-np.pi / 2, color=\"red\")  # phase midpoint\n",
    "    plt.show()"
   ]
  },
  {
   "cell_type": "markdown",
   "id": "3d802eaa-d912-47f5-b4bd-51ae7f149d16",
   "metadata": {},
   "source": [
    "# Simple test signal"
   ]
  },
  {
   "cell_type": "code",
   "execution_count": null,
   "id": "d4059394-6f26-4e9a-a3ec-60afca1b4da0",
   "metadata": {},
   "outputs": [],
   "source": [
    "# Sampling parameters\n",
    "fs = 1000  # Sampling frequency in Hz\n",
    "T = 1  # total time in seconds\n",
    "t_0 = 0.15  # starting time (use this to test signals that start at non-zero values, etc.)\n",
    "t = np.linspace(t_0, t_0 + T, T * fs, endpoint=False)  # Time vector (T seconds)\n",
    "\n",
    "# Generate the test signal\n",
    "f1, f2 = 5, 50  # Frequencies of the sinusoids in Hz\n",
    "signal = np.sin(2 * np.pi * f1 * t) + np.sin(2 * np.pi * f2 * t)  # Sum of two sinusoids\n",
    "# signal = square(2 * np.pi * f1 * t)  # Square wave\n",
    "\n",
    "# Cutoff frequency in Hz\n",
    "fc = 15"
   ]
  },
  {
   "cell_type": "markdown",
   "id": "74e2806d-b1bb-4835-9ac9-dc0d00d6acdd",
   "metadata": {},
   "source": [
    "# Filter the signal"
   ]
  },
  {
   "cell_type": "code",
   "execution_count": null,
   "id": "a7fc877b-16ee-4bb8-9767-311cb34c7290",
   "metadata": {},
   "outputs": [],
   "source": [
    "# Reminder of methods for treating the signal boundaries: \"gust\", \"odd_padding\", \"even_padding\", \"constant_padding\", \"no_padding\"\n",
    "\n",
    "b, a = critically_damped_lpf(fc, fs)\n",
    "y1 = apply_filtfilt(b, a, signal, method=\"gust\")\n",
    "plot_filtered_signal(signal, y1, \"Critically damped 2nd-order\")\n",
    "print(\"b =\", b, \"; a =\", a, \"\\n\")\n",
    "\n",
    "b, a = bessel_lpf(fc, fs)\n",
    "y2 = apply_filtfilt(b, a, signal, method=\"gust\")\n",
    "plot_filtered_signal(signal, y2, \"Bessel LPF\")\n",
    "print(\"b =\", b, \"; a =\", a, \"\\n\")\n",
    "\n",
    "b, a = butter_lpf(fc, fs)\n",
    "y3 = apply_filtfilt(b, a, signal, method=\"gust\")\n",
    "plot_filtered_signal(signal, y3, \"Butterworth LPF\")\n",
    "print(\"b =\", b, \"; a =\", a, \"\\n\")\n",
    "\n",
    "b, a = cheby1_lpf(fc, fs)\n",
    "y4 = apply_filtfilt(b, a, signal, method=\"gust\")\n",
    "plot_filtered_signal(signal, y4, \"Chebyhev LPF\")\n",
    "print(\"b =\", b, \"; a =\", a, \"\\n\")"
   ]
  },
  {
   "cell_type": "markdown",
   "id": "4e167073-0ad4-4b8f-b961-a0f33cf903eb",
   "metadata": {},
   "source": [
    "# Optionally, show the filter's characteristics"
   ]
  },
  {
   "cell_type": "code",
   "execution_count": null,
   "id": "869cb9d9-c275-450a-af66-1d0bdc3d6ac4",
   "metadata": {},
   "outputs": [],
   "source": [
    "if True:\n",
    "    # To show a frequency range a bit over Nyquist\n",
    "    worN = np.linspace(0, fs * 0.8, 512)\n",
    "\n",
    "    # Use Butterworth as the reference to compare against\n",
    "    b, a = butter_lpf(fc, fs)\n",
    "    w_ref, h_ref = freqz(b, a, fs=fs, worN=worN)\n",
    "\n",
    "    # 2nd order critically damped:\n",
    "    b, a = critically_damped_lpf(fc, fs)\n",
    "    w, h = freqz(b, a, fs=fs, worN=worN)\n",
    "    # plot_freq_response(fc, w_ref, h_ref, w, h, \"Critically damped 2nd-order\")\n",
    "    # plot_phase_response(fc, w_ref, h_ref, w, h, \"Critically damped 2nd-order\")\n",
    "    plot_both_responses(fc, w_ref, h_ref, w, h, \"Critically damped 2nd-order\")\n",
    "\n",
    "    # Bessel\n",
    "    b, a = bessel_lpf(fc, fs)\n",
    "    w, h = freqz(b, a, fs=fs, worN=worN)\n",
    "    # plot_freq_response(fc, w_ref, h_ref, w, h, \"Bessel\")\n",
    "    # plot_phase_response(fc, w_ref, h_ref, w, h, \"Besssel\")\n",
    "    plot_both_responses(fc, w_ref, h_ref, w, h, \"Bessel\")\n",
    "\n",
    "    # Chebyshev\n",
    "    b, a = cheby1_lpf(fc, fs)\n",
    "    w, h = freqz(b, a, fs=fs, worN=worN)\n",
    "    # plot_freq_response(fc, w_ref, h_ref, w, h, \"Chebyshev\")\n",
    "    # plot_phase_response(fc, w_ref, h_ref, w, h, \"Chebyshev\")\n",
    "    plot_both_responses(fc, w_ref, h_ref, w, h, \"Chebyshev\")"
   ]
  }
 ],
 "metadata": {
  "kernelspec": {
   "display_name": "Python 3 (ipykernel)",
   "language": "python",
   "name": "python3"
  },
  "language_info": {
   "codemirror_mode": {
    "name": "ipython",
    "version": 3
   },
   "file_extension": ".py",
   "mimetype": "text/x-python",
   "name": "python",
   "nbconvert_exporter": "python",
   "pygments_lexer": "ipython3",
   "version": "3.10.12"
  }
 },
 "nbformat": 4,
 "nbformat_minor": 5
}
